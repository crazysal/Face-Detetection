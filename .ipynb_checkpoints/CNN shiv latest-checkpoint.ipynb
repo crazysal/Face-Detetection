{
 "cells": [
  {
   "cell_type": "code",
   "execution_count": 65,
   "metadata": {
    "collapsed": true
   },
   "outputs": [],
   "source": [
    "import zipfile\n",
    "import os\n",
    "from PIL import Image\n",
    "import numpy as np\n",
    "import tensorflow  as tf\n",
    "import matplotlib.pyplot as plt\n",
    "import csv \n",
    "number_of_images_in_data = 10000"
   ]
  },
  {
   "cell_type": "code",
   "execution_count": 66,
   "metadata": {
    "collapsed": true
   },
   "outputs": [],
   "source": [
    "def load_usps():\n",
    "    #Extracting file from celebA dataset\n",
    "    filename=\"img_align_celeba\"\n",
    "\n",
    "    #Defining height,width for resizing the images to 28x28 like MNIST digits\n",
    "    height=28\n",
    "    width=28 \n",
    "    #Defining image,label list\n",
    "    images = []\n",
    "    img_list = [] \n",
    "    train_counter = 0\n",
    "    number_of_images_in_data = 10000\n",
    "\n",
    "    #Extracting labels,images array needed for training    \n",
    "    for root, dirs, files in os.walk(\".\"):\n",
    "        path = root.split(os.sep)\n",
    "        print(path)\n",
    "        if filename in path:\n",
    "            image_files = [fname for fname in files if fname.find(\".jpg\") >= 0]\n",
    "            print(len(image_files))\n",
    "            for file in image_files: \n",
    "                train_counter +=1;\n",
    "                if(train_counter <= number_of_images_in_data):\n",
    "#                     print(train_counter)\n",
    "                    images.append(os.path.join(*path, file)) \n",
    "                else:\n",
    "                    break;\n",
    "\n",
    "    #Resizing images \n",
    "    for idx, imgs in enumerate(images):\n",
    "        img = Image.open(imgs).convert(\"L\")\n",
    "        img = img.resize((height, width), Image.ANTIALIAS)\n",
    "        img_data = list(img.getdata())\n",
    "        img_list.append(img_data)\n",
    "        \n",
    "    return np.asarray(img_list)\n",
    "\n",
    "\n",
    "sess = tf.InteractiveSession()\n"
   ]
  },
  {
   "cell_type": "code",
   "execution_count": 58,
   "metadata": {},
   "outputs": [
    {
     "name": "stdout",
     "output_type": "stream",
     "text": [
      "['.']\n",
      "['.', '.ipynb_checkpoints']\n",
      "['.', 'celeba_data']\n",
      "['.', 'demo']\n",
      "['.', 'img_align_celeba']\n",
      "202599\n"
     ]
    }
   ],
   "source": [
    "image_list_data_face = load_usps()"
   ]
  },
  {
   "cell_type": "code",
   "execution_count": 71,
   "metadata": {
    "collapsed": true
   },
   "outputs": [],
   "source": [
    "trn_len = int(0.85 * number_of_images_in_data)\n",
    "image_list_data_face_training = image_list_data_face[:trn_len, :]\n",
    "image_list_data_face_testing = image_list_data_face[trn_len:, :]"
   ]
  },
  {
   "cell_type": "code",
   "execution_count": 34,
   "metadata": {
    "collapsed": true
   },
   "outputs": [],
   "source": [
    "image_list_data_face_1 = tf.placeholder(np.float32)\n",
    "#tf.reshape(image_list_data_face_1,[784,])"
   ]
  },
  {
   "cell_type": "code",
   "execution_count": 87,
   "metadata": {
    "collapsed": true
   },
   "outputs": [],
   "source": [
    "img_name,data = np.loadtxt('list_attr_celeba.txt',dtype={'names': ('img_name','eyeglasses_label'), \n",
    "               'formats': ('U15',np.int)},usecols=(0,15),skiprows=2,unpack=True)\n",
    "# data_matrix=np.array([img_name,data])\n",
    "#print(data_matrix)\n",
    "label_train = []\n",
    "label_test = []\n",
    "for i in range(trn_len):\n",
    "    \n",
    "    label_train.append(data[i])\n",
    "\n",
    "for i in range(trn_len, number_of_images_in_data):\n",
    "    label_test.append(data[i])\n",
    "\n",
    "label_train = np.array(label_train).reshape(-1,1)\n",
    "label_train_tf = tf.placeholder(np.float32)\n",
    "\n",
    "label_test = np.array(label_test).reshape(-1,1)\n",
    "label_test_tf = tf.placeholder(np.float32)\n",
    "#print (data_demo_array)"
   ]
  },
  {
   "cell_type": "code",
   "execution_count": 77,
   "metadata": {
    "collapsed": true
   },
   "outputs": [],
   "source": [
    "# Build a Multilayer Convolutional Network\n",
    "# Weight Initialization\n",
    "\n",
    "# To create this model, we're going to need to create a lot of weights and biases. One should generally initialize weights with a small amount of noise for symmetry breaking, and to prevent 0 gradients. Since we're using ReLU neurons, it is also good practice to initialize them with a slightly positive initial bias to avoid \"dead neurons\". Instead of doing this repeatedly while we build the model, let's create two handy functions to do it for us.\n",
    "\n",
    "def weight_variable(shape):\n",
    "    initial = tf.truncated_normal(shape, stddev=0.1)\n",
    "    return tf.Variable(initial)\n",
    "\n",
    "def bias_variable(shape):\n",
    "    initial = tf.constant(0.1, shape=shape)\n",
    "    return tf.Variable(initial)\n"
   ]
  },
  {
   "cell_type": "code",
   "execution_count": 78,
   "metadata": {
    "collapsed": true
   },
   "outputs": [],
   "source": [
    "# Convolution and Pooling\n",
    "\n",
    "# TensorFlow also gives us a lot of flexibility in convolution and pooling operations. How do we handle the boundaries? What is our stride size? In this example, we're always going to choose the vanilla version. Our convolutions uses a stride of one and are zero padded so that the output is the same size as the input. Our pooling is plain old max pooling over 2x2 blocks. To keep our code cleaner, let's also abstract those operations into functions.\n",
    "\n",
    "def conv2d(x, W):\n",
    "    return tf.nn.conv2d(x, W, strides=[1, 1, 1, 1], padding='SAME')\n",
    "\n",
    "def max_pool_2x2(x):\n",
    "    return tf.nn.max_pool(x, ksize=[1, 2, 2, 1],\n",
    "                        strides=[1, 2, 2, 1], padding='SAME')\n"
   ]
  },
  {
   "cell_type": "code",
   "execution_count": 103,
   "metadata": {
    "collapsed": true,
    "scrolled": true
   },
   "outputs": [],
   "source": [
    "# First Convolutional Layer\n",
    "\n",
    "# We can now implement our first layer. It will consist of convolution, followed by max pooling. The convolution will compute 32 features for each 5x5 patch. Its weight tensor will have a shape of [5, 5, 1, 32]. The first two dimensions are the patch size, the next is the number of input channels, and the last is the number of output channels. We will also have a bias vector with a component for each output channel.\n",
    "\n",
    "W_conv1 = weight_variable([5, 5, 1, 32])\n",
    "b_conv1 = bias_variable([32])\n",
    "\n",
    "# To apply the layer, we first reshape x to a 4d tensor, with the second and third dimensions corresponding to image width and height, and the final dimension corresponding to the number of color channels.\n",
    "\n",
    "x_image = tf.reshape(image_list_data_face_training, [-1, 28, 28, 1])\n",
    "x_image = tf.cast(x_image, tf.float32)\n",
    "\n",
    "# We then convolve x_image with the weight tensor, add the bias, apply the ReLU function, and finally max pool. The max_pool_2x2 method will reduce the image size to 14x14.\n",
    "\n",
    "h_conv1 = tf.nn.relu(conv2d(x_image, W_conv1) + b_conv1)\n",
    "h_pool1 = max_pool_2x2(h_conv1)\n"
   ]
  },
  {
   "cell_type": "code",
   "execution_count": 104,
   "metadata": {
    "collapsed": true
   },
   "outputs": [],
   "source": [
    "# Second Convolutional Layer\n",
    "\n",
    "# In order to build a deep network, we stack several layers of this type. The second layer will have 64 features for each 5x5 patch.\n",
    "\n",
    "W_conv2 = weight_variable([5, 5, 32, 64])\n",
    "b_conv2 = bias_variable([64])\n",
    "\n",
    "h_conv2 = tf.nn.relu(conv2d(h_pool1, W_conv2) + b_conv2)\n",
    "h_pool2 = max_pool_2x2(h_conv2)\n"
   ]
  },
  {
   "cell_type": "code",
   "execution_count": 105,
   "metadata": {
    "collapsed": true
   },
   "outputs": [],
   "source": [
    "# Densely Connected Layer\n",
    "\n",
    "# Now that the image size has been reduced to 7x7, we add a fully-connected layer with 1024 neurons to allow processing on the entire image. We reshape the tensor from the pooling layer into a batch of vectors, multiply by a weight matrix, add a bias, and apply a ReLU.\n",
    "\n",
    "W_fc1 = weight_variable([7 * 7 * 64, 1024])\n",
    "b_fc1 = bias_variable([1024])\n",
    "\n",
    "h_pool2_flat = tf.reshape(h_pool2, [-1, 7*7*64])\n",
    "h_fc1 = tf.nn.relu(tf.matmul(h_pool2_flat, W_fc1) + b_fc1)\n"
   ]
  },
  {
   "cell_type": "code",
   "execution_count": 106,
   "metadata": {
    "collapsed": true
   },
   "outputs": [],
   "source": [
    "# Dropout\n",
    "\n",
    "# To reduce overfitting, we will apply dropout before the readout layer. We create a placeholder for the probability that a neuron's output is kept during dropout. This allows us to turn dropout on during training, and turn it off during testing. TensorFlow's tf.nn.dropout op automatically handles scaling neuron outputs in addition to masking them, so dropout just works without any additional scaling.1\n",
    "\n",
    "keep_prob = tf.placeholder(tf.float32)\n",
    "h_fc1_drop = tf.nn.dropout(h_fc1, keep_prob)\n"
   ]
  },
  {
   "cell_type": "code",
   "execution_count": 107,
   "metadata": {
    "collapsed": true
   },
   "outputs": [],
   "source": [
    "# Readout Layer\n",
    "\n",
    "# Finally, we add a layer, just like for the one layer softmax regression above.\n",
    "\n",
    "W_fc2 = weight_variable([1024, 1])\n",
    "b_fc2 = bias_variable([1])\n",
    "\n",
    "y_conv = tf.matmul(h_fc1_drop, W_fc2) + b_fc2"
   ]
  },
  {
   "cell_type": "code",
   "execution_count": 108,
   "metadata": {
    "collapsed": true
   },
   "outputs": [],
   "source": [
    "def next_batch(num, data, labels):\n",
    "    '''\n",
    "    Return a total of num random samples and labels. \n",
    "    '''\n",
    "#    idx = np.arange(0 , len(data))\n",
    "#    print(data.shape)\n",
    "#     np.random.shuffle(idx)\n",
    "#     idx = idx[:num]\n",
    "#     data_shuffle = [data[i][:] for i in idx]\n",
    "#     labels_shuffle = [labels[ i] for i in idx]\n",
    "#     print(np.asarray(data_shuffle).shape)\n",
    "#     return np.reshape(np.asarray(data_shuffle),[num,784]), np.asarray(labels_shuffle)\n",
    "    b = np.random.randint(0,data.shape[0],num)\n",
    "#    print(data[b].shape)\n",
    "    return data[b],labels[b]\n",
    "\n",
    "#Xtr, Ytr = np.arange(0, 10), np.arange(0, 100).reshape(10, 10)\n",
    "#print(Xtr)\n",
    "#print(Ytr)\n",
    "\n",
    "#Xtr, Ytr = next_batch(5, Xtr, Ytr)\n",
    "#print('\\n5 random samples')\n",
    "#print(Xtr)\n",
    "#print(Ytr)"
   ]
  },
  {
   "cell_type": "code",
   "execution_count": 112,
   "metadata": {},
   "outputs": [
    {
     "name": "stdout",
     "output_type": "stream",
     "text": [
      "step 0, training accuracy 1\n",
      "step 5, training accuracy 1\n",
      "step 10, training accuracy 1\n",
      "step 15, training accuracy 1\n",
      "step 20, training accuracy 1\n",
      "test accuracy 1\n"
     ]
    }
   ],
   "source": [
    "# Train and Evaluate the Model\n",
    "\n",
    "# How well does this model do? To train and evaluate it we will use code that is nearly identical to that for the simple one layer SoftMax network above.\n",
    "\n",
    "# The differences are that:\n",
    "\n",
    "#  ~   We will replace the steepest gradient descent optimizer with the more sophisticated ADAM optimizer.\n",
    "\n",
    "#  ~   We will include the additional parameter keep_prob in feed_dict to control the dropout rate.\n",
    "\n",
    "#  ~   We will add logging to every 100th iteration in the training process.\n",
    "\n",
    "# We will also use tf.Session rather than tf.InteractiveSession. This better separates the process of creating the graph (model specification) and the process of evaluating the graph (model fitting). It generally makes for cleaner code. The tf.Session is created within a with block so that it is automatically destroyed once the block is exited.\n",
    "\n",
    "cross_entropy = tf.reduce_mean(tf.nn.softmax_cross_entropy_with_logits(labels=label_train, logits=y_conv))\n",
    "train_step = tf.train.AdamOptimizer(1e-4).minimize(cross_entropy)\n",
    "correct_prediction = tf.equal(tf.argmax(y_conv, 1), tf.argmax(label_train, 1))\n",
    "accuracy = tf.reduce_mean(tf.cast(correct_prediction, tf.float32))\n",
    "\n",
    "with tf.Session() as sess:\n",
    "    sess.run(tf.global_variables_initializer())\n",
    "    for i in range(25):\n",
    "        batch,labels = next_batch(50,image_list_data_face_training, label_train) \n",
    "        if i % 5 == 0:\n",
    "            train_accuracy = accuracy.eval(feed_dict={image_list_data_face_1: batch, label_train_tf: labels, keep_prob: 1.0})\n",
    "            print('step %d, training accuracy %g' % (i, train_accuracy))\n",
    "        train_step.run(feed_dict={image_list_data_face_1: batch, label_train_tf: labels, keep_prob: 0.5})\n",
    "\n",
    "    print('test accuracy %g' % accuracy.eval(feed_dict={\n",
    "      image_list_data_face_1: image_list_data_face_testing, label_test_tf: label_test, keep_prob: 1.0}))\n",
    "\n",
    "#     print('USPS accuracy %g' % accuracy.eval(feed_dict={\n",
    "#       x: USPS_img_array, y_: USPS_label_array, keep_prob: 1.0}))  \n",
    "    "
   ]
  },
  {
   "cell_type": "code",
   "execution_count": null,
   "metadata": {
    "collapsed": true
   },
   "outputs": [],
   "source": []
  }
 ],
 "metadata": {
  "kernelspec": {
   "display_name": "Python 3",
   "language": "python",
   "name": "python3"
  },
  "language_info": {
   "codemirror_mode": {
    "name": "ipython",
    "version": 3
   },
   "file_extension": ".py",
   "mimetype": "text/x-python",
   "name": "python",
   "nbconvert_exporter": "python",
   "pygments_lexer": "ipython3",
   "version": "3.5.4"
  }
 },
 "nbformat": 4,
 "nbformat_minor": 2
}
